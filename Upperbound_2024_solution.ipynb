{
  "cells": [
    {
      "cell_type": "markdown",
      "metadata": {
        "id": "view-in-github",
        "colab_type": "text"
      },
      "source": [
        "<a href=\"https://colab.research.google.com/github/azimi99/Upperbound2024-Kaggle/blob/main/Upperbound_2024_solution.ipynb\" target=\"_parent\"><img src=\"https://colab.research.google.com/assets/colab-badge.svg\" alt=\"Open In Colab\"/></a>"
      ]
    },
    {
      "cell_type": "markdown",
      "metadata": {
        "id": "8xvu5Qvb3sYH"
      },
      "source": [
        "# **Puddle World**\n",
        "\n",
        "In this guide, we provide a step-by-step walkthrough on preparing the Puddle World environment for the Competition.\n",
        "\n",
        "Firstly, we cover the installation of the environment and related dependencies, both for local setup and utilization within a Colab notebook.\n",
        "\n",
        "Next, we detail the process of initializing the environment with desired configurations and demonstrate how to visualize its characteristics. The goal of the competition is to design an agent that does well in the five provided configurations. Therefore, we show you how to load all the various versions of the environment and inspect their characteristics.\n",
        "\n",
        "Given the objective of designing a competent agent, we present suggestions for deploying random, human, or untuned DQN agents within the environment. Observing all these different baseline behaviors serves as a valuable starting point for your work.\n",
        "\n",
        "Finally, it's time to design and train a single agent capable of superior performance across the five configurations of the environment. Testing the agent on these configurations, with the first being the default environment as described in the paper, is crucial. We provide instructions on saving results in a CSV file for submission, marking the beginning of your journey.\n",
        "\n",
        "Whether you're new to the field and eager to explore or an experienced practitioner aiming to refine your skills, this competition provides a platform to utilize your knowledge and creativity!"
      ]
    },
    {
      "cell_type": "markdown",
      "metadata": {
        "id": "IIhADOEiMMNG"
      },
      "source": [
        "# 1. Installing the Requirements"
      ]
    },
    {
      "cell_type": "markdown",
      "metadata": {
        "id": "xfH70vPMXZDI"
      },
      "source": [
        "In this section, you can find the necessary information for installing the environment and relavant libraries for your work."
      ]
    },
    {
      "cell_type": "markdown",
      "metadata": {
        "id": "4GMv0w4DMQIt"
      },
      "source": [
        "## 1.1. For Google Colab\n",
        "\n",
        "You can access the gym-puddle library for colab by installing the repository by the following command.\n",
        "You can also include other necessary installations of your own here."
      ]
    },
    {
      "cell_type": "code",
      "execution_count": null,
      "metadata": {
        "colab": {
          "base_uri": "https://localhost:8080/"
        },
        "id": "bZ1-mRKkhiYK",
        "outputId": "0f8fbf2a-e065-49a5-8ecd-2dc43c2814ed"
      },
      "outputs": [
        {
          "output_type": "stream",
          "name": "stdout",
          "text": [
            "Collecting git+https://github.com/Amii-Open-Source/gym-puddle.git\n",
            "  Cloning https://github.com/Amii-Open-Source/gym-puddle.git to /tmp/pip-req-build-elpnw79i\n",
            "  Running command git clone --filter=blob:none --quiet https://github.com/Amii-Open-Source/gym-puddle.git /tmp/pip-req-build-elpnw79i\n",
            "  Resolved https://github.com/Amii-Open-Source/gym-puddle.git to commit 7ddd0ec98bf476aa6ea116c3e7168986663166a1\n",
            "  Preparing metadata (setup.py) ... \u001b[?25l\u001b[?25hdone\n",
            "Collecting gymnasium==0.29.1 (from gym-puddle==0.0.2)\n",
            "  Downloading gymnasium-0.29.1-py3-none-any.whl (953 kB)\n",
            "\u001b[2K     \u001b[90m━━━━━━━━━━━━━━━━━━━━━━━━━━━━━━━━━━━━━━━━\u001b[0m \u001b[32m953.9/953.9 kB\u001b[0m \u001b[31m6.0 MB/s\u001b[0m eta \u001b[36m0:00:00\u001b[0m\n",
            "\u001b[?25hCollecting numpy==1.26.4 (from gym-puddle==0.0.2)\n",
            "  Downloading numpy-1.26.4-cp310-cp310-manylinux_2_17_x86_64.manylinux2014_x86_64.whl (18.2 MB)\n",
            "\u001b[2K     \u001b[90m━━━━━━━━━━━━━━━━━━━━━━━━━━━━━━━━━━━━━━━━\u001b[0m \u001b[32m18.2/18.2 MB\u001b[0m \u001b[31m19.2 MB/s\u001b[0m eta \u001b[36m0:00:00\u001b[0m\n",
            "\u001b[?25hRequirement already satisfied: pygame==2.5.2 in /usr/local/lib/python3.10/dist-packages (from gym-puddle==0.0.2) (2.5.2)\n",
            "Requirement already satisfied: cloudpickle>=1.2.0 in /usr/local/lib/python3.10/dist-packages (from gymnasium==0.29.1->gym-puddle==0.0.2) (2.2.1)\n",
            "Requirement already satisfied: typing-extensions>=4.3.0 in /usr/local/lib/python3.10/dist-packages (from gymnasium==0.29.1->gym-puddle==0.0.2) (4.11.0)\n",
            "Collecting farama-notifications>=0.0.1 (from gymnasium==0.29.1->gym-puddle==0.0.2)\n",
            "  Downloading Farama_Notifications-0.0.4-py3-none-any.whl (2.5 kB)\n",
            "Building wheels for collected packages: gym-puddle\n",
            "  Building wheel for gym-puddle (setup.py) ... \u001b[?25l\u001b[?25hdone\n",
            "  Created wheel for gym-puddle: filename=gym_puddle-0.0.2-py3-none-any.whl size=4852 sha256=d4817ee0d4f509e6a1d8a87a8dae78a10d2dfa57393e2466104ff83e10190587\n",
            "  Stored in directory: /tmp/pip-ephem-wheel-cache-ru0li1sv/wheels/ff/ea/4e/a496612f0dee8c032274426e2395548711b7ee6c0added3c99\n",
            "Successfully built gym-puddle\n",
            "Installing collected packages: farama-notifications, numpy, gymnasium, gym-puddle\n",
            "  Attempting uninstall: numpy\n",
            "    Found existing installation: numpy 1.25.2\n",
            "    Uninstalling numpy-1.25.2:\n",
            "      Successfully uninstalled numpy-1.25.2\n",
            "Successfully installed farama-notifications-0.0.4 gym-puddle-0.0.2 gymnasium-0.29.1 numpy-1.26.4\n",
            "Collecting git+https://github.com/DLR-RM/stable-baselines3@f375cc393938a6b4e4dc0fb1de82b4afca37c1bd\n",
            "  Cloning https://github.com/DLR-RM/stable-baselines3 (to revision f375cc393938a6b4e4dc0fb1de82b4afca37c1bd) to /tmp/pip-req-build-9w8pm0e7\n",
            "  Running command git clone --filter=blob:none --quiet https://github.com/DLR-RM/stable-baselines3 /tmp/pip-req-build-9w8pm0e7\n",
            "  Running command git rev-parse -q --verify 'sha^f375cc393938a6b4e4dc0fb1de82b4afca37c1bd'\n",
            "  Running command git fetch -q https://github.com/DLR-RM/stable-baselines3 f375cc393938a6b4e4dc0fb1de82b4afca37c1bd\n",
            "  Running command git checkout -q f375cc393938a6b4e4dc0fb1de82b4afca37c1bd\n",
            "  Resolved https://github.com/DLR-RM/stable-baselines3 to commit f375cc393938a6b4e4dc0fb1de82b4afca37c1bd\n",
            "  Installing build dependencies ... \u001b[?25l\u001b[?25hdone\n",
            "  Getting requirements to build wheel ... \u001b[?25l\u001b[?25hdone\n",
            "  Preparing metadata (pyproject.toml) ... \u001b[?25l\u001b[?25hdone\n",
            "Requirement already satisfied: gymnasium<0.30,>=0.28.1 in /usr/local/lib/python3.10/dist-packages (from stable_baselines3==2.3.0a3) (0.29.1)\n",
            "Requirement already satisfied: numpy>=1.20 in /usr/local/lib/python3.10/dist-packages (from stable_baselines3==2.3.0a3) (1.26.4)\n",
            "Requirement already satisfied: torch>=1.13 in /usr/local/lib/python3.10/dist-packages (from stable_baselines3==2.3.0a3) (2.2.1+cu121)\n",
            "Requirement already satisfied: cloudpickle in /usr/local/lib/python3.10/dist-packages (from stable_baselines3==2.3.0a3) (2.2.1)\n",
            "Requirement already satisfied: pandas in /usr/local/lib/python3.10/dist-packages (from stable_baselines3==2.3.0a3) (2.0.3)\n",
            "Requirement already satisfied: matplotlib in /usr/local/lib/python3.10/dist-packages (from stable_baselines3==2.3.0a3) (3.7.1)\n",
            "Requirement already satisfied: typing-extensions>=4.3.0 in /usr/local/lib/python3.10/dist-packages (from gymnasium<0.30,>=0.28.1->stable_baselines3==2.3.0a3) (4.11.0)\n",
            "Requirement already satisfied: farama-notifications>=0.0.1 in /usr/local/lib/python3.10/dist-packages (from gymnasium<0.30,>=0.28.1->stable_baselines3==2.3.0a3) (0.0.4)\n",
            "Requirement already satisfied: filelock in /usr/local/lib/python3.10/dist-packages (from torch>=1.13->stable_baselines3==2.3.0a3) (3.14.0)\n",
            "Requirement already satisfied: sympy in /usr/local/lib/python3.10/dist-packages (from torch>=1.13->stable_baselines3==2.3.0a3) (1.12)\n",
            "Requirement already satisfied: networkx in /usr/local/lib/python3.10/dist-packages (from torch>=1.13->stable_baselines3==2.3.0a3) (3.3)\n",
            "Requirement already satisfied: jinja2 in /usr/local/lib/python3.10/dist-packages (from torch>=1.13->stable_baselines3==2.3.0a3) (3.1.3)\n",
            "Requirement already satisfied: fsspec in /usr/local/lib/python3.10/dist-packages (from torch>=1.13->stable_baselines3==2.3.0a3) (2023.6.0)\n",
            "Collecting nvidia-cuda-nvrtc-cu12==12.1.105 (from torch>=1.13->stable_baselines3==2.3.0a3)\n",
            "  Using cached nvidia_cuda_nvrtc_cu12-12.1.105-py3-none-manylinux1_x86_64.whl (23.7 MB)\n",
            "Collecting nvidia-cuda-runtime-cu12==12.1.105 (from torch>=1.13->stable_baselines3==2.3.0a3)\n",
            "  Using cached nvidia_cuda_runtime_cu12-12.1.105-py3-none-manylinux1_x86_64.whl (823 kB)\n",
            "Collecting nvidia-cuda-cupti-cu12==12.1.105 (from torch>=1.13->stable_baselines3==2.3.0a3)\n",
            "  Using cached nvidia_cuda_cupti_cu12-12.1.105-py3-none-manylinux1_x86_64.whl (14.1 MB)\n",
            "Collecting nvidia-cudnn-cu12==8.9.2.26 (from torch>=1.13->stable_baselines3==2.3.0a3)\n",
            "  Using cached nvidia_cudnn_cu12-8.9.2.26-py3-none-manylinux1_x86_64.whl (731.7 MB)\n",
            "Collecting nvidia-cublas-cu12==12.1.3.1 (from torch>=1.13->stable_baselines3==2.3.0a3)\n",
            "  Using cached nvidia_cublas_cu12-12.1.3.1-py3-none-manylinux1_x86_64.whl (410.6 MB)\n",
            "Collecting nvidia-cufft-cu12==11.0.2.54 (from torch>=1.13->stable_baselines3==2.3.0a3)\n",
            "  Using cached nvidia_cufft_cu12-11.0.2.54-py3-none-manylinux1_x86_64.whl (121.6 MB)\n",
            "Collecting nvidia-curand-cu12==10.3.2.106 (from torch>=1.13->stable_baselines3==2.3.0a3)\n",
            "  Using cached nvidia_curand_cu12-10.3.2.106-py3-none-manylinux1_x86_64.whl (56.5 MB)\n",
            "Collecting nvidia-cusolver-cu12==11.4.5.107 (from torch>=1.13->stable_baselines3==2.3.0a3)\n",
            "  Using cached nvidia_cusolver_cu12-11.4.5.107-py3-none-manylinux1_x86_64.whl (124.2 MB)\n",
            "Collecting nvidia-cusparse-cu12==12.1.0.106 (from torch>=1.13->stable_baselines3==2.3.0a3)\n",
            "  Using cached nvidia_cusparse_cu12-12.1.0.106-py3-none-manylinux1_x86_64.whl (196.0 MB)\n",
            "Collecting nvidia-nccl-cu12==2.19.3 (from torch>=1.13->stable_baselines3==2.3.0a3)\n",
            "  Using cached nvidia_nccl_cu12-2.19.3-py3-none-manylinux1_x86_64.whl (166.0 MB)\n",
            "Collecting nvidia-nvtx-cu12==12.1.105 (from torch>=1.13->stable_baselines3==2.3.0a3)\n",
            "  Using cached nvidia_nvtx_cu12-12.1.105-py3-none-manylinux1_x86_64.whl (99 kB)\n",
            "Requirement already satisfied: triton==2.2.0 in /usr/local/lib/python3.10/dist-packages (from torch>=1.13->stable_baselines3==2.3.0a3) (2.2.0)\n",
            "Collecting nvidia-nvjitlink-cu12 (from nvidia-cusolver-cu12==11.4.5.107->torch>=1.13->stable_baselines3==2.3.0a3)\n",
            "  Using cached nvidia_nvjitlink_cu12-12.4.127-py3-none-manylinux2014_x86_64.whl (21.1 MB)\n",
            "Requirement already satisfied: contourpy>=1.0.1 in /usr/local/lib/python3.10/dist-packages (from matplotlib->stable_baselines3==2.3.0a3) (1.2.1)\n",
            "Requirement already satisfied: cycler>=0.10 in /usr/local/lib/python3.10/dist-packages (from matplotlib->stable_baselines3==2.3.0a3) (0.12.1)\n",
            "Requirement already satisfied: fonttools>=4.22.0 in /usr/local/lib/python3.10/dist-packages (from matplotlib->stable_baselines3==2.3.0a3) (4.51.0)\n",
            "Requirement already satisfied: kiwisolver>=1.0.1 in /usr/local/lib/python3.10/dist-packages (from matplotlib->stable_baselines3==2.3.0a3) (1.4.5)\n",
            "Requirement already satisfied: packaging>=20.0 in /usr/local/lib/python3.10/dist-packages (from matplotlib->stable_baselines3==2.3.0a3) (24.0)\n",
            "Requirement already satisfied: pillow>=6.2.0 in /usr/local/lib/python3.10/dist-packages (from matplotlib->stable_baselines3==2.3.0a3) (9.4.0)\n",
            "Requirement already satisfied: pyparsing>=2.3.1 in /usr/local/lib/python3.10/dist-packages (from matplotlib->stable_baselines3==2.3.0a3) (3.1.2)\n",
            "Requirement already satisfied: python-dateutil>=2.7 in /usr/local/lib/python3.10/dist-packages (from matplotlib->stable_baselines3==2.3.0a3) (2.8.2)\n",
            "Requirement already satisfied: pytz>=2020.1 in /usr/local/lib/python3.10/dist-packages (from pandas->stable_baselines3==2.3.0a3) (2023.4)\n",
            "Requirement already satisfied: tzdata>=2022.1 in /usr/local/lib/python3.10/dist-packages (from pandas->stable_baselines3==2.3.0a3) (2024.1)\n",
            "Requirement already satisfied: six>=1.5 in /usr/local/lib/python3.10/dist-packages (from python-dateutil>=2.7->matplotlib->stable_baselines3==2.3.0a3) (1.16.0)\n",
            "Requirement already satisfied: MarkupSafe>=2.0 in /usr/local/lib/python3.10/dist-packages (from jinja2->torch>=1.13->stable_baselines3==2.3.0a3) (2.1.5)\n",
            "Requirement already satisfied: mpmath>=0.19 in /usr/local/lib/python3.10/dist-packages (from sympy->torch>=1.13->stable_baselines3==2.3.0a3) (1.3.0)\n",
            "Building wheels for collected packages: stable_baselines3\n",
            "  Building wheel for stable_baselines3 (pyproject.toml) ... \u001b[?25l\u001b[?25hdone\n",
            "  Created wheel for stable_baselines3: filename=stable_baselines3-2.3.0a3-py3-none-any.whl size=182019 sha256=402f3c5bc5586961465c01d673c16d84426f4a9ea079c3b4932d64cae2121028\n",
            "  Stored in directory: /root/.cache/pip/wheels/c0/42/eb/e7e7c46cd385ff2967ed68b58dfafa7bc727ad61de1c0259b9\n",
            "Successfully built stable_baselines3\n",
            "Installing collected packages: nvidia-nvtx-cu12, nvidia-nvjitlink-cu12, nvidia-nccl-cu12, nvidia-curand-cu12, nvidia-cufft-cu12, nvidia-cuda-runtime-cu12, nvidia-cuda-nvrtc-cu12, nvidia-cuda-cupti-cu12, nvidia-cublas-cu12, nvidia-cusparse-cu12, nvidia-cudnn-cu12, nvidia-cusolver-cu12, stable_baselines3\n",
            "Successfully installed nvidia-cublas-cu12-12.1.3.1 nvidia-cuda-cupti-cu12-12.1.105 nvidia-cuda-nvrtc-cu12-12.1.105 nvidia-cuda-runtime-cu12-12.1.105 nvidia-cudnn-cu12-8.9.2.26 nvidia-cufft-cu12-11.0.2.54 nvidia-curand-cu12-10.3.2.106 nvidia-cusolver-cu12-11.4.5.107 nvidia-cusparse-cu12-12.1.0.106 nvidia-nccl-cu12-2.19.3 nvidia-nvjitlink-cu12-12.4.127 nvidia-nvtx-cu12-12.1.105 stable_baselines3-2.3.0a3\n",
            "Reading package lists... Done\n",
            "Building dependency tree... Done\n",
            "Reading state information... Done\n",
            "The following additional packages will be installed:\n",
            "  libfontenc1 libxfont2 libxkbfile1 libxtst6 libxxf86dga1 x11-xkb-utils xfonts-base\n",
            "  xfonts-encodings xfonts-utils xserver-common\n",
            "Suggested packages:\n",
            "  mesa-utils\n",
            "The following NEW packages will be installed:\n",
            "  libfontenc1 libxfont2 libxkbfile1 libxtst6 libxxf86dga1 x11-utils x11-xkb-utils xfonts-base\n",
            "  xfonts-encodings xfonts-utils xserver-common xvfb\n",
            "0 upgraded, 12 newly installed, 0 to remove and 45 not upgraded.\n",
            "Need to get 8,045 kB of archives.\n",
            "After this operation, 12.8 MB of additional disk space will be used.\n",
            "Get:1 http://archive.ubuntu.com/ubuntu jammy/main amd64 libfontenc1 amd64 1:1.1.4-1build3 [14.7 kB]\n",
            "Get:2 http://archive.ubuntu.com/ubuntu jammy/main amd64 libxfont2 amd64 1:2.0.5-1build1 [94.5 kB]\n",
            "Get:3 http://archive.ubuntu.com/ubuntu jammy/main amd64 libxkbfile1 amd64 1:1.1.0-1build3 [71.8 kB]\n",
            "Get:4 http://archive.ubuntu.com/ubuntu jammy/main amd64 libxtst6 amd64 2:1.2.3-1build4 [13.4 kB]\n",
            "Get:5 http://archive.ubuntu.com/ubuntu jammy/main amd64 libxxf86dga1 amd64 2:1.1.5-0ubuntu3 [12.6 kB]\n",
            "Get:6 http://archive.ubuntu.com/ubuntu jammy/main amd64 x11-utils amd64 7.7+5build2 [206 kB]\n",
            "Get:7 http://archive.ubuntu.com/ubuntu jammy/main amd64 x11-xkb-utils amd64 7.7+5build4 [172 kB]\n",
            "Get:8 http://archive.ubuntu.com/ubuntu jammy/main amd64 xfonts-encodings all 1:1.0.5-0ubuntu2 [578 kB]\n",
            "Get:9 http://archive.ubuntu.com/ubuntu jammy/main amd64 xfonts-utils amd64 1:7.7+6build2 [94.6 kB]\n",
            "Get:10 http://archive.ubuntu.com/ubuntu jammy/main amd64 xfonts-base all 1:1.0.5 [5,896 kB]\n",
            "Get:11 http://archive.ubuntu.com/ubuntu jammy-updates/main amd64 xserver-common all 2:21.1.4-2ubuntu1.7~22.04.10 [28.5 kB]\n",
            "Get:12 http://archive.ubuntu.com/ubuntu jammy-updates/universe amd64 xvfb amd64 2:21.1.4-2ubuntu1.7~22.04.10 [863 kB]\n",
            "Fetched 8,045 kB in 3s (2,648 kB/s)\n",
            "Selecting previously unselected package libfontenc1:amd64.\n",
            "(Reading database ... 121918 files and directories currently installed.)\n",
            "Preparing to unpack .../00-libfontenc1_1%3a1.1.4-1build3_amd64.deb ...\n",
            "Unpacking libfontenc1:amd64 (1:1.1.4-1build3) ...\n",
            "Selecting previously unselected package libxfont2:amd64.\n",
            "Preparing to unpack .../01-libxfont2_1%3a2.0.5-1build1_amd64.deb ...\n",
            "Unpacking libxfont2:amd64 (1:2.0.5-1build1) ...\n",
            "Selecting previously unselected package libxkbfile1:amd64.\n",
            "Preparing to unpack .../02-libxkbfile1_1%3a1.1.0-1build3_amd64.deb ...\n",
            "Unpacking libxkbfile1:amd64 (1:1.1.0-1build3) ...\n",
            "Selecting previously unselected package libxtst6:amd64.\n",
            "Preparing to unpack .../03-libxtst6_2%3a1.2.3-1build4_amd64.deb ...\n",
            "Unpacking libxtst6:amd64 (2:1.2.3-1build4) ...\n",
            "Selecting previously unselected package libxxf86dga1:amd64.\n",
            "Preparing to unpack .../04-libxxf86dga1_2%3a1.1.5-0ubuntu3_amd64.deb ...\n",
            "Unpacking libxxf86dga1:amd64 (2:1.1.5-0ubuntu3) ...\n",
            "Selecting previously unselected package x11-utils.\n",
            "Preparing to unpack .../05-x11-utils_7.7+5build2_amd64.deb ...\n",
            "Unpacking x11-utils (7.7+5build2) ...\n",
            "Selecting previously unselected package x11-xkb-utils.\n",
            "Preparing to unpack .../06-x11-xkb-utils_7.7+5build4_amd64.deb ...\n",
            "Unpacking x11-xkb-utils (7.7+5build4) ...\n",
            "Selecting previously unselected package xfonts-encodings.\n",
            "Preparing to unpack .../07-xfonts-encodings_1%3a1.0.5-0ubuntu2_all.deb ...\n",
            "Unpacking xfonts-encodings (1:1.0.5-0ubuntu2) ...\n",
            "Selecting previously unselected package xfonts-utils.\n",
            "Preparing to unpack .../08-xfonts-utils_1%3a7.7+6build2_amd64.deb ...\n",
            "Unpacking xfonts-utils (1:7.7+6build2) ...\n",
            "Selecting previously unselected package xfonts-base.\n",
            "Preparing to unpack .../09-xfonts-base_1%3a1.0.5_all.deb ...\n",
            "Unpacking xfonts-base (1:1.0.5) ...\n",
            "Selecting previously unselected package xserver-common.\n",
            "Preparing to unpack .../10-xserver-common_2%3a21.1.4-2ubuntu1.7~22.04.10_all.deb ...\n",
            "Unpacking xserver-common (2:21.1.4-2ubuntu1.7~22.04.10) ...\n",
            "Selecting previously unselected package xvfb.\n",
            "Preparing to unpack .../11-xvfb_2%3a21.1.4-2ubuntu1.7~22.04.10_amd64.deb ...\n",
            "Unpacking xvfb (2:21.1.4-2ubuntu1.7~22.04.10) ...\n",
            "Setting up libxtst6:amd64 (2:1.2.3-1build4) ...\n",
            "Setting up libxxf86dga1:amd64 (2:1.1.5-0ubuntu3) ...\n",
            "Setting up libfontenc1:amd64 (1:1.1.4-1build3) ...\n",
            "Setting up xfonts-encodings (1:1.0.5-0ubuntu2) ...\n",
            "Setting up libxkbfile1:amd64 (1:1.1.0-1build3) ...\n",
            "Setting up libxfont2:amd64 (1:2.0.5-1build1) ...\n",
            "Setting up x11-xkb-utils (7.7+5build4) ...\n",
            "Setting up xfonts-utils (1:7.7+6build2) ...\n",
            "Setting up xfonts-base (1:1.0.5) ...\n",
            "Setting up x11-utils (7.7+5build2) ...\n",
            "Setting up xserver-common (2:21.1.4-2ubuntu1.7~22.04.10) ...\n",
            "Setting up xvfb (2:21.1.4-2ubuntu1.7~22.04.10) ...\n",
            "Processing triggers for man-db (2.10.2-1) ...\n",
            "Processing triggers for fontconfig (2.13.1-4.2ubuntu5) ...\n",
            "Processing triggers for libc-bin (2.35-0ubuntu3.4) ...\n",
            "/sbin/ldconfig.real: /usr/local/lib/libtbbbind.so.3 is not a symbolic link\n",
            "\n",
            "/sbin/ldconfig.real: /usr/local/lib/libtbbmalloc.so.2 is not a symbolic link\n",
            "\n",
            "/sbin/ldconfig.real: /usr/local/lib/libtbb.so.12 is not a symbolic link\n",
            "\n",
            "/sbin/ldconfig.real: /usr/local/lib/libtbbmalloc_proxy.so.2 is not a symbolic link\n",
            "\n",
            "/sbin/ldconfig.real: /usr/local/lib/libtbbbind_2_5.so.3 is not a symbolic link\n",
            "\n",
            "/sbin/ldconfig.real: /usr/local/lib/libtbbbind_2_0.so.3 is not a symbolic link\n",
            "\n",
            "Collecting pyvirtualdisplay\n",
            "  Downloading PyVirtualDisplay-3.0-py3-none-any.whl (15 kB)\n",
            "Installing collected packages: pyvirtualdisplay\n",
            "Successfully installed pyvirtualdisplay-3.0\n",
            "Requirement already satisfied: ipykernel in /usr/local/lib/python3.10/dist-packages (5.5.6)\n",
            "Collecting ipykernel\n",
            "  Downloading ipykernel-6.29.4-py3-none-any.whl (117 kB)\n",
            "\u001b[2K     \u001b[90m━━━━━━━━━━━━━━━━━━━━━━━━━━━━━━━━━━━━━━━━\u001b[0m \u001b[32m117.1/117.1 kB\u001b[0m \u001b[31m3.7 MB/s\u001b[0m eta \u001b[36m0:00:00\u001b[0m\n",
            "\u001b[?25hCollecting comm>=0.1.1 (from ipykernel)\n",
            "  Downloading comm-0.2.2-py3-none-any.whl (7.2 kB)\n",
            "Requirement already satisfied: debugpy>=1.6.5 in /usr/local/lib/python3.10/dist-packages (from ipykernel) (1.6.6)\n",
            "Requirement already satisfied: ipython>=7.23.1 in /usr/local/lib/python3.10/dist-packages (from ipykernel) (7.34.0)\n",
            "Requirement already satisfied: jupyter-client>=6.1.12 in /usr/local/lib/python3.10/dist-packages (from ipykernel) (6.1.12)\n",
            "Requirement already satisfied: jupyter-core!=5.0.*,>=4.12 in /usr/local/lib/python3.10/dist-packages (from ipykernel) (5.7.2)\n",
            "Requirement already satisfied: matplotlib-inline>=0.1 in /usr/local/lib/python3.10/dist-packages (from ipykernel) (0.1.7)\n",
            "Requirement already satisfied: nest-asyncio in /usr/local/lib/python3.10/dist-packages (from ipykernel) (1.6.0)\n",
            "Requirement already satisfied: packaging in /usr/local/lib/python3.10/dist-packages (from ipykernel) (24.0)\n",
            "Requirement already satisfied: psutil in /usr/local/lib/python3.10/dist-packages (from ipykernel) (5.9.5)\n",
            "Requirement already satisfied: pyzmq>=24 in /usr/local/lib/python3.10/dist-packages (from ipykernel) (24.0.1)\n",
            "Requirement already satisfied: tornado>=6.1 in /usr/local/lib/python3.10/dist-packages (from ipykernel) (6.3.3)\n",
            "Requirement already satisfied: traitlets>=5.4.0 in /usr/local/lib/python3.10/dist-packages (from ipykernel) (5.7.1)\n",
            "Requirement already satisfied: setuptools>=18.5 in /usr/local/lib/python3.10/dist-packages (from ipython>=7.23.1->ipykernel) (67.7.2)\n",
            "Collecting jedi>=0.16 (from ipython>=7.23.1->ipykernel)\n",
            "  Downloading jedi-0.19.1-py2.py3-none-any.whl (1.6 MB)\n",
            "\u001b[2K     \u001b[90m━━━━━━━━━━━━━━━━━━━━━━━━━━━━━━━━━━━━━━━━\u001b[0m \u001b[32m1.6/1.6 MB\u001b[0m \u001b[31m13.3 MB/s\u001b[0m eta \u001b[36m0:00:00\u001b[0m\n",
            "\u001b[?25hRequirement already satisfied: decorator in /usr/local/lib/python3.10/dist-packages (from ipython>=7.23.1->ipykernel) (4.4.2)\n",
            "Requirement already satisfied: pickleshare in /usr/local/lib/python3.10/dist-packages (from ipython>=7.23.1->ipykernel) (0.7.5)\n",
            "Requirement already satisfied: prompt-toolkit!=3.0.0,!=3.0.1,<3.1.0,>=2.0.0 in /usr/local/lib/python3.10/dist-packages (from ipython>=7.23.1->ipykernel) (3.0.43)\n",
            "Requirement already satisfied: pygments in /usr/local/lib/python3.10/dist-packages (from ipython>=7.23.1->ipykernel) (2.16.1)\n",
            "Requirement already satisfied: backcall in /usr/local/lib/python3.10/dist-packages (from ipython>=7.23.1->ipykernel) (0.2.0)\n",
            "Requirement already satisfied: pexpect>4.3 in /usr/local/lib/python3.10/dist-packages (from ipython>=7.23.1->ipykernel) (4.9.0)\n",
            "Requirement already satisfied: python-dateutil>=2.1 in /usr/local/lib/python3.10/dist-packages (from jupyter-client>=6.1.12->ipykernel) (2.8.2)\n",
            "Requirement already satisfied: platformdirs>=2.5 in /usr/local/lib/python3.10/dist-packages (from jupyter-core!=5.0.*,>=4.12->ipykernel) (4.2.1)\n",
            "Requirement already satisfied: parso<0.9.0,>=0.8.3 in /usr/local/lib/python3.10/dist-packages (from jedi>=0.16->ipython>=7.23.1->ipykernel) (0.8.4)\n",
            "Requirement already satisfied: ptyprocess>=0.5 in /usr/local/lib/python3.10/dist-packages (from pexpect>4.3->ipython>=7.23.1->ipykernel) (0.7.0)\n",
            "Requirement already satisfied: wcwidth in /usr/local/lib/python3.10/dist-packages (from prompt-toolkit!=3.0.0,!=3.0.1,<3.1.0,>=2.0.0->ipython>=7.23.1->ipykernel) (0.2.13)\n",
            "Requirement already satisfied: six>=1.5 in /usr/local/lib/python3.10/dist-packages (from python-dateutil>=2.1->jupyter-client>=6.1.12->ipykernel) (1.16.0)\n",
            "Installing collected packages: jedi, comm, ipykernel\n",
            "  Attempting uninstall: ipykernel\n",
            "    Found existing installation: ipykernel 5.5.6\n",
            "    Uninstalling ipykernel-5.5.6:\n",
            "      Successfully uninstalled ipykernel-5.5.6\n",
            "\u001b[31mERROR: pip's dependency resolver does not currently take into account all the packages that are installed. This behaviour is the source of the following dependency conflicts.\n",
            "google-colab 1.0.0 requires ipykernel==5.5.6, but you have ipykernel 6.29.4 which is incompatible.\u001b[0m\u001b[31m\n",
            "\u001b[0mSuccessfully installed comm-0.2.2 ipykernel-6.29.4 jedi-0.19.1\n"
          ]
        }
      ],
      "source": [
        "!pip install git+https://github.com/Amii-Open-Source/gym-puddle.git\n",
        "!pip install git+https://github.com/DLR-RM/stable-baselines3@f375cc393938a6b4e4dc0fb1de82b4afca37c1bd\n",
        "!apt-get install -y xvfb x11-utils\n",
        "!pip install pyvirtualdisplay\n",
        "!pip install --upgrade ipykernel"
      ]
    },
    {
      "cell_type": "markdown",
      "metadata": {
        "id": "WIJjN7wM36mV"
      },
      "source": [
        "# 2. Introduction to the Environment"
      ]
    },
    {
      "cell_type": "markdown",
      "metadata": {
        "id": "hgVQx5wsZ6No"
      },
      "source": [
        "The \"Puddle World\" environment provides an interface for reinforcement learning experiments. It features puddles and challenges agents to navigate to specified goal positions while avoiding the puddles with larger negative rewards.\n",
        "You can access key details like starting position, goal location, and action noise levels. By printing these attributes, you can gain insights into the environment's layout and develop strategies for training reinforcement learning algorithms effectively within the Puddle World domain.\n",
        "Here is the default Puddle World configuration inspired by the [original paper](/http://incompleteideas.net/papers/sutton-96.pdf):\n",
        "\n",
        "**Actions**\n",
        "\n",
        "There are four actions: up, down, right, and left.\n",
        "Each action moves approximately 0.05 in these directions. For the case where an action would take the agent out of the screen limits, the action does not move the agent instead.\n",
        "\n",
        "A random gaussian noise with standard deviation 0.01 is also added to the motion along both dimensions.\n",
        "\n",
        "**Reward**\n",
        "\n",
        "The reward is -1 for each time step, plus some additional penalty if the agent gets into the puddle.\n",
        "The penalty is -400 times the distance into the puddle (distance to the nearest edge).\n",
        "\n",
        "\n",
        "**Puddle Positions**\n",
        "\n",
        "The puddles's top-left position is [0.  , 0.85] and [0.35, 0.9] respectively, and the width and height for them is [0.55, 0.2 ] and [0.2, 0.6].\n",
        "\n",
        "**Start Position**\n",
        "\n",
        "The agent starts each episode at [0.2, 0.4].\n",
        "\n",
        "**Goal Position**\n",
        "\n",
        "The episode ends succesfully if the agent reaches [1.0, 1.0] which is the goal position.\n"
      ]
    },
    {
      "cell_type": "code",
      "execution_count": null,
      "metadata": {
        "id": "-l8sBVaJgHZM"
      },
      "outputs": [],
      "source": [
        "import gymnasium as gym\n",
        "import gym_puddle\n",
        "\n",
        "from stable_baselines3 import DQN\n",
        "from stable_baselines3.dqn import MlpPolicy as DQNPolicy\n",
        "\n",
        "import time\n",
        "import json\n",
        "\n",
        "import matplotlib.pyplot as plt\n",
        "import numpy as np\n",
        "from tqdm import tqdm\n",
        "from IPython import display\n",
        "import pyvirtualdisplay\n",
        "import cv2"
      ]
    },
    {
      "cell_type": "markdown",
      "metadata": {
        "id": "PCZgqX8EvWLo"
      },
      "source": [
        "Here are the printed details about the environment."
      ]
    },
    {
      "cell_type": "code",
      "execution_count": null,
      "metadata": {
        "colab": {
          "base_uri": "https://localhost:8080/"
        },
        "id": "5nx5pViOgfWX",
        "outputId": "db1716e3-75c3-4097-9bf3-86aafa9a8e28"
      },
      "outputs": [
        {
          "name": "stdout",
          "output_type": "stream",
          "text": [
            "start position: [0.2 0.4]\n",
            "goal position: [1. 1.]\n",
            "goal threshold: 0.1\n",
            "action noise: 0.01\n",
            "agent's thrust: 0.05\n",
            "puddle top left positions: [array([0.  , 0.85]), array([0.35, 0.9 ])]\n",
            "puddle widths and heights: [array([0.55, 0.2 ]), array([0.2, 0.6])]\n",
            "action space: [array([-0.05,  0.  ]), array([0.05, 0.  ]), array([ 0.  , -0.05]), array([0.  , 0.05])]\n",
            "observation space: Box(0.0, 1.0, (2,), float64)\n",
            "observation space: PuddleWorld-v0\n"
          ]
        },
        {
          "name": "stderr",
          "output_type": "stream",
          "text": [
            "/usr/local/lib/python3.10/dist-packages/ipykernel/ipkernel.py:283: DeprecationWarning: `should_run_async` will not call `transform_cell` automatically in the future. Please pass the result to `transformed_cell` argument and any exception that happen during thetransform in `preprocessing_exc_tuple` in IPython 7.17 and above.\n",
            "  def _forward_input(self, allow_stdin=False):\n"
          ]
        }
      ],
      "source": [
        "  env = gym.make(\"PuddleWorld-v0\")\n",
        "\n",
        "  print(\"start position:\", env.get_wrapper_attr(\"start\"))\n",
        "  print(\"goal position:\", env.get_wrapper_attr(\"goal\"))\n",
        "  print(\"goal threshold:\", env.get_wrapper_attr(\"goal_threshold\"))\n",
        "  print(\"action noise:\", env.get_wrapper_attr(\"noise\"))\n",
        "  print(\"agent's thrust:\", env.get_wrapper_attr(\"thrust\"))\n",
        "  print(\"puddle top left positions:\", env.get_wrapper_attr(\"puddle_top_left\"))\n",
        "  print(\"puddle widths and heights:\", env.get_wrapper_attr(\"puddle_width\"))\n",
        "  print(\"action space:\", env.get_wrapper_attr(\"actions\"))\n",
        "  print(\"observation space:\", env.get_wrapper_attr(\"observation_space\"))\n",
        "  print(\"observation space:\", env.spec.id)"
      ]
    },
    {
      "cell_type": "markdown",
      "metadata": {
        "id": "Q3zuQ4I4vdfm"
      },
      "source": [
        "Here is the visualization of the environment for the default configuration."
      ]
    },
    {
      "cell_type": "code",
      "execution_count": null,
      "metadata": {
        "id": "_O2Y4pxziS-g"
      },
      "outputs": [],
      "source": [
        "#some functions to help the visualization and interaction wit the environment\n",
        "\n",
        "def visualize(frames, video_name = \"video.mp4\"):\n",
        "    # Saves the frames as an mp4 video using cv2\n",
        "    video_path = video_name\n",
        "    height, width, _ = frames[0].shape\n",
        "    fourcc = cv2.VideoWriter_fourcc(*\"mp4v\")\n",
        "    video_writer = cv2.VideoWriter(video_path, fourcc, 30, (width, height))\n",
        "    for frame in frames:\n",
        "        video_writer.write(frame)\n",
        "    video_writer.release()\n",
        "\n",
        "def online_rendering(image):\n",
        "    #Visualize one frame of the image in a display\n",
        "    ax.axis('off')\n",
        "    img_with_frame = np.zeros((image.shape[0]+2, image.shape[1]+2, 3), dtype=np.uint8)\n",
        "    img_with_frame[1:-1, 1:-1, :] = image\n",
        "    ax.imshow(img_with_frame)\n",
        "    display.display(plt.gcf())\n",
        "    display.clear_output(wait=True)\n",
        "\n",
        "\n",
        "def prepare_display():\n",
        "  #Prepares display for onine rendering of the frames in the game\n",
        "  _display = pyvirtualdisplay.Display(visible=False,size=(1400, 900))\n",
        "  _ = _display.start()\n",
        "  fig, ax = plt.subplots(figsize=(5, 5))\n",
        "  ax.axis('off')\n",
        "\n",
        "\n",
        "def get_action():\n",
        "    action = None\n",
        "    while action not in [\"w\", \"a\", \"s\", \"d\", \"W\", \"A\", \"S\", \"D\"]:\n",
        "        action = input(\"Enter action (w/a/s/d): \")\n",
        "    if action == \"w\":\n",
        "        return 3\n",
        "    elif action == \"a\":\n",
        "        return 0\n",
        "    elif action == \"s\":\n",
        "        return 2\n",
        "    elif action == \"d\":\n",
        "        return 1\n"
      ]
    },
    {
      "cell_type": "markdown",
      "metadata": {
        "id": "NvpUay3y5kYW"
      },
      "source": [
        "#4. Now It's Your Turn!"
      ]
    },
    {
      "cell_type": "markdown",
      "metadata": {
        "id": "SoUfMFHCl70O"
      },
      "source": [
        "Now, you're invited to dive into the world of reinforcement learning and take control of the Puddle World environment. We encourage you to become an active participant by modifying the provided code, tweaking parameters, and experimenting with different strategies. You can come up with your own agent ideas, or use pre-exisiting libraries, and adapt them to the problem.\n",
        "\n",
        "\n",
        "The goal is to build **a single agent that can generalize well across all the environment configurations.**\n",
        "Once you have built your agent, test your trained agent with 100 different seeds, each seed for one episode, in the five provided configurations, save the total reward in each episode for each configuration, and submit the results as a `.csv` file as indicated in the Kaggle platform. You can set different seeds for the environment with `env.reset(seed = n)`) with `n` being the number from 1 to 100.\n",
        "\n",
        " Whether you're a beginner eager to explore or an experienced practitioner seeking to refine your skills, this competition offers an opportunity to apply your knowledge and creativity.\n",
        "\n"
      ]
    },
    {
      "cell_type": "code",
      "execution_count": null,
      "metadata": {
        "colab": {
          "base_uri": "https://localhost:8080/",
          "height": 422
        },
        "id": "qAIg_XHICkrM",
        "outputId": "a43e31bd-49fd-4819-f68c-238fac1def7b"
      },
      "outputs": [
        {
          "output_type": "display_data",
          "data": {
            "text/plain": [
              "<Figure size 500x500 with 1 Axes>"
            ],
            "image/png": "[encoded data removed]"
          },
          "metadata": {}
        }
      ],
      "source": [
        "## Visualize Environment\n",
        "json_file = f\"/content/pw1.json\"\n",
        "\n",
        "with open(json_file) as f:\n",
        "  env_setup = json.load(f)\n",
        "\n",
        "env1 = gym.make(\n",
        "  \"PuddleWorld-v0\",\n",
        "  start=env_setup[\"start\"],\n",
        "  goal=env_setup[\"goal\"],\n",
        "  goal_threshold=env_setup[\"goal_threshold\"],\n",
        "  noise=env_setup[\"noise\"],\n",
        "  thrust=env_setup[\"thrust\"],\n",
        "  puddle_top_left=env_setup[\"puddle_top_left\"],\n",
        "  puddle_width=env_setup[\"puddle_width\"],\n",
        ")\n",
        "puddle_top_left=env_setup[\"puddle_top_left\"]\n",
        "puddle_width=env_setup[\"puddle_width\"]\n",
        "obs, info = env1.reset()\n",
        "image = env1.render()\n",
        "fig, ax = plt.subplots(figsize=(5, 5))\n",
        "online_rendering(image)"
      ]
    },
    {
      "cell_type": "code",
      "execution_count": null,
      "metadata": {
        "id": "Umi6J8kTDbjN"
      },
      "outputs": [],
      "source": [
        "seed = 0\n",
        "np.random.seed(seed)\n",
        "\n",
        "## TILE-CODING CONFIGURATION\n",
        "n_tiles_per_dim = 10\n",
        "tile_width = 1/n_tiles_per_dim\n",
        "num_tilings = 20\n",
        "offset_vals = np.random.uniform(low=-tile_width, high=tile_width, size=(num_tilings, 2))\n",
        "\n",
        "def state_update_func(obs): # Constructs markov state\n",
        "\n",
        "  tmp_obs = obs\n",
        "  state_vec = np.zeros(shape=(n_tiles_per_dim, n_tiles_per_dim))\n",
        "  for i in range(num_tilings):\n",
        "    offset = offset_vals[i]\n",
        "    obs = tmp_obs + offset\n",
        "    state_vec_tmp = np.zeros(shape=(n_tiles_per_dim, n_tiles_per_dim))\n",
        "    if not (obs[0] < 0 or obs[0] > 1 or obs[1]<0 or obs[1] >1): # not out of bounds\n",
        "      state_vec_tmp[int(obs[0]/tile_width) - 1][int(obs[1]/tile_width) - 1] = 1\n",
        "    if i == 0:\n",
        "      state_vec = state_vec_tmp\n",
        "      continue\n",
        "    state_vec = np.append(state_vec, state_vec_tmp)\n",
        "\n",
        "  return state_vec.flatten()\n",
        "\n",
        "def q(state, action, weights): # State-Action value\n",
        "  return weights.dot(x_sa(state, action))\n",
        "\n",
        "def x_sa(state, action): # State-Action feature vector\n",
        "  x_sa = np.zeros(shape=(4, state.shape[-1]))\n",
        "  x_sa[action] = state\n",
        "  return x_sa.flatten()\n",
        "\n",
        "def sample_action(env, epsilon, state, weights): # Policy, PI\n",
        "  binomial_trial = np.random.rand()\n",
        "  if binomial_trial < epsilon:\n",
        "    return env.action_space.sample()\n",
        "  else:\n",
        "    return np.argmax([q(state, action, weights) for action in [0, 1, 2, 3]])\n",
        "\n",
        "def create_env_state(puddle_top_left, puddle_width): # Tile code the environment config\n",
        "\n",
        "  puddle_vec = np.zeros(shape=(n_tiles_per_dim, n_tiles_per_dim))\n",
        "  for i in range(num_tilings):\n",
        "    puddle_vec_tmp = np.zeros(shape=(n_tiles_per_dim, n_tiles_per_dim))\n",
        "    for p in puddle_top_left:\n",
        "      p_off = p + offset_vals[i]\n",
        "      if not (p_off[0] < 0 or p_off[0] > 1 or p_off[1]<0 or p_off[1] >1):\n",
        "        puddle_vec_tmp[int(p[0]/tile_width) - 1][int(p[1]/tile_width) - 1] = 1\n",
        "      if i == 0:\n",
        "        puddle_vec = puddle_vec_tmp\n",
        "        continue\n",
        "      puddle_vec = np.append(puddle_vec, puddle_vec_tmp)\n",
        "\n",
        "    puddle_vec_width = np.zeros(shape=(n_tiles_per_dim, n_tiles_per_dim))\n",
        "    for p in puddle_width:\n",
        "      puddle_vec_width_tmp = np.zeros(shape=(n_tiles_per_dim, n_tiles_per_dim))\n",
        "      p_off = p + offset_vals[i]\n",
        "      if not (p_off[0] < 0 or p_off[0] > 1 or p_off[1]<0 or p_off[1] >1):\n",
        "        puddle_vec_width_tmp[int(p[0]/tile_width) - 1][int(p[1]/tile_width) - 1] = 1\n",
        "      if i == 0:\n",
        "        puddle_vec_width = puddle_vec_width_tmp\n",
        "        continue\n",
        "      puddle_vec_width = np.append(puddle_vec, puddle_vec_width_tmp)\n",
        "\n",
        "  return np.append(puddle_vec, puddle_vec_width).flatten()\n",
        "\n"
      ]
    },
    {
      "cell_type": "code",
      "execution_count": null,
      "metadata": {
        "id": "JwSy8u3YfGFg",
        "colab": {
          "base_uri": "https://localhost:8080/"
        },
        "outputId": "3478d5f7-1550-4439-c007-85cb23eed3a7"
      },
      "outputs": [
        {
          "output_type": "stream",
          "name": "stderr",
          "text": [
            "/usr/local/lib/python3.10/dist-packages/ipykernel/ipkernel.py:283: DeprecationWarning: `should_run_async` will not call `transform_cell` automatically in the future. Please pass the result to `transformed_cell` argument and any exception that happen during thetransform in `preprocessing_exc_tuple` in IPython 7.17 and above.\n",
            "  def _forward_input(self, allow_stdin=False):\n"
          ]
        }
      ],
      "source": [
        "### SEMIGRADIENT n-STEP SARSA\n",
        "def learn(env,\n",
        "          weights={},\n",
        "          seed=0,\n",
        "          episodes = 3000,\n",
        "          gamma = 0.999,\n",
        "          epsilon=0.1,\n",
        "          num_tilings=100,\n",
        "          n_steps=4,\n",
        "          anneal_lr = 0.999999,\n",
        "          anneal_exploration=0.9999):\n",
        "  # print(f\"BEGIN TRAINING ON: {env.spec.id}\")\n",
        "  done = False\n",
        "  stepsize = 1/(num_tilings * 5)\n",
        "  episode_rewards = []\n",
        "  total_reward = 0\n",
        "  env_state = create_env_state(env.get_wrapper_attr(\"puddle_top_left\"), env.get_wrapper_attr(\"puddle_top_left\"))\n",
        "  np.random.seed(seed)\n",
        "  pbar = tqdm(range(episodes))\n",
        "  for _ in pbar:\n",
        "    obs, info = env.reset(seed=seed)\n",
        "    state = state_update_func(obs)\n",
        "    weight_vec = weights.get(env_state.tobytes(), np.zeros(state.shape[0] * 4))\n",
        "    action = sample_action(env, epsilon, state, weight_vec)  # take action epislon greedy\n",
        "    done = False\n",
        "    step = 0\n",
        "    reward_buffer = []\n",
        "    while not done:\n",
        "      q_val = q(state, action, weight_vec)\n",
        "      obs, reward, done, trunc, info = env.step(action)\n",
        "      reward_buffer.append(reward)\n",
        "      step += 1\n",
        "      next_state = state_update_func(obs)\n",
        "      next_action = sample_action(env, epsilon, state, weight_vec)\n",
        "\n",
        "      if done:\n",
        "        G = sum([reward_buffer[i]*gamma**i for i in range(len(reward_buffer))])\n",
        "        weight_vec  = weight_vec\\\n",
        "        + stepsize * (G - q_val)*x_sa(state, action)\n",
        "        stepsize *= anneal_lr\n",
        "      elif step % n_steps == 0:\n",
        "        G = sum([reward_buffer[i]*gamma**i for i in range(n_steps)])\n",
        "        next_q_val= q(next_state, next_action, weight_vec)\n",
        "        weight_vec  = weight_vec \\\n",
        "        + stepsize * (G + (gamma**n_steps) * next_q_val - q_val)*x_sa(state, action)\n",
        "        stepsize *= anneal_lr\n",
        "        reward_buffer = []\n",
        "\n",
        "\n",
        "      state = next_state\n",
        "      action = next_action\n",
        "\n",
        "      total_reward += reward\n",
        "    weights[env_state.tobytes()] = weight_vec\n",
        "\n",
        "    if done:\n",
        "      # print(f\"total reward in this episode {_}: {total_reward}\")\n",
        "      # episode_rewards.append(total_reward)\n",
        "      pbar.set_postfix({'total_reward': total_reward})\n",
        "      epsilon *= anneal_exploration\n",
        "      total_reward = 0\n",
        "  # print(\"Training complete\")\n",
        "  env.close()\n",
        "  return weights\n"
      ]
    },
    {
      "cell_type": "code",
      "execution_count": null,
      "metadata": {
        "id": "9oLxPJlnQ4i-"
      },
      "outputs": [],
      "source": [
        "#### Create Environments ####\n",
        "env_list = []\n",
        "for i in range(1,6):\n",
        "  json_file = f\"/content/pw{i}.json\"\n",
        "\n",
        "  with open(json_file) as f:\n",
        "    env_setup = json.load(f)\n",
        "\n",
        "  env_list.append(gym.make(\n",
        "    \"PuddleWorld-v0\",\n",
        "    start=env_setup[\"start\"],\n",
        "    goal=env_setup[\"goal\"],\n",
        "    goal_threshold=env_setup[\"goal_threshold\"],\n",
        "    noise=env_setup[\"noise\"],\n",
        "    thrust=env_setup[\"thrust\"],\n",
        "    puddle_top_left=env_setup[\"puddle_top_left\"],\n",
        "    puddle_width=env_setup[\"puddle_width\"],\n",
        "  ))"
      ]
    },
    {
      "cell_type": "code",
      "execution_count": null,
      "metadata": {
        "id": "H65IBGUzUvNb"
      },
      "outputs": [],
      "source": [
        "weights = {}"
      ]
    },
    {
      "cell_type": "code",
      "execution_count": null,
      "metadata": {
        "colab": {
          "base_uri": "https://localhost:8080/"
        },
        "id": "04zYARtwBn63",
        "outputId": "a789adb2-1c01-479d-9dad-6e9c498601e4"
      },
      "outputs": [
        {
          "output_type": "stream",
          "name": "stderr",
          "text": [
            "100%|██████████| 5000/5000 [02:00<00:00, 41.64it/s, total_reward=-41]\n",
            "100%|██████████| 5000/5000 [01:46<00:00, 47.09it/s, total_reward=-41]\n",
            "100%|██████████| 5000/5000 [01:44<00:00, 48.07it/s, total_reward=-43]\n",
            "100%|██████████| 5000/5000 [01:47<00:00, 46.51it/s, total_reward=-38]\n",
            "100%|██████████| 5000/5000 [01:45<00:00, 47.58it/s, total_reward=-45]\n",
            "100%|██████████| 5000/5000 [01:58<00:00, 42.11it/s, total_reward=-37]\n",
            "100%|██████████| 5000/5000 [01:41<00:00, 49.32it/s, total_reward=-43]\n",
            "100%|██████████| 5000/5000 [01:47<00:00, 46.51it/s, total_reward=-49]\n",
            "100%|██████████| 5000/5000 [01:50<00:00, 45.37it/s, total_reward=-37]\n",
            "100%|██████████| 5000/5000 [01:47<00:00, 46.34it/s, total_reward=-38]\n",
            "100%|██████████| 5000/5000 [01:58<00:00, 42.14it/s, total_reward=-31]\n",
            "100%|██████████| 5000/5000 [01:26<00:00, 58.12it/s, total_reward=-31]\n",
            "100%|██████████| 5000/5000 [01:31<00:00, 54.37it/s, total_reward=-39]\n",
            "100%|██████████| 5000/5000 [01:35<00:00, 52.45it/s, total_reward=-31]\n",
            "100%|██████████| 5000/5000 [01:38<00:00, 50.71it/s, total_reward=-34]\n",
            "100%|██████████| 5000/5000 [02:08<00:00, 38.95it/s, total_reward=-39]\n",
            "100%|██████████| 5000/5000 [01:40<00:00, 49.57it/s, total_reward=-33]\n",
            "100%|██████████| 5000/5000 [01:42<00:00, 48.56it/s, total_reward=-44]\n",
            "100%|██████████| 5000/5000 [01:44<00:00, 48.02it/s, total_reward=-35]\n",
            "100%|██████████| 5000/5000 [01:47<00:00, 46.45it/s, total_reward=-50]\n",
            "100%|██████████| 5000/5000 [02:09<00:00, 38.64it/s, total_reward=-44]\n",
            "100%|██████████| 5000/5000 [01:54<00:00, 43.86it/s, total_reward=-40]\n",
            "100%|██████████| 5000/5000 [01:50<00:00, 45.06it/s, total_reward=-46]\n",
            "100%|██████████| 5000/5000 [01:52<00:00, 44.36it/s, total_reward=-42]\n",
            "100%|██████████| 5000/5000 [01:49<00:00, 45.84it/s, total_reward=-42]\n"
          ]
        }
      ],
      "source": [
        "## CONDUCTING EXPERIMENTS\n",
        "seed = 100\n",
        "\n",
        "for env in env_list:\n",
        "  for epoch in range(5):\n",
        "    weights = learn(env,\n",
        "                    episodes=5000,\n",
        "                    weights=weights,\n",
        "                    seed=seed,\n",
        "                    num_tilings=num_tilings,\n",
        "                    anneal_lr=1.0,\n",
        "                    n_steps=1)"
      ]
    },
    {
      "cell_type": "code",
      "execution_count": null,
      "metadata": {
        "id": "4CIqRiJwnDA7"
      },
      "outputs": [],
      "source": [
        "np.save(\"weights-2.npy\", weights)"
      ]
    },
    {
      "cell_type": "code",
      "source": [
        "#### SUBMISSION ####\n",
        "weights = np.load(\"weights-2.npy\", allow_pickle=True).item()"
      ],
      "metadata": {
        "id": "7hW6Yq8M9e0l"
      },
      "execution_count": null,
      "outputs": []
    },
    {
      "cell_type": "code",
      "source": [
        "import pandas as pd\n",
        "\n",
        "# Assuming you have a list of 100 episodic rewards for each configuration\n",
        "# Example data structure: [(config1_rewards), (config2_rewards), ...]\n",
        "\n",
        "# Replace this example data with your actual rewards data\n",
        "episode_rewards_per_configuration = [\n",
        "]\n",
        "\n",
        "for indx, env in enumerate(env_list):\n",
        "  episodic_rewards=[]\n",
        "\n",
        "  done = False\n",
        "  env_state = create_env_state(env.get_wrapper_attr(\"puddle_top_left\"), env.get_wrapper_attr(\"puddle_top_left\"))\n",
        "  for seed in range(1, 101):\n",
        "    obs,_ = env.reset(seed=seed)\n",
        "    total_reward = 0\n",
        "    state = state_update_func(obs)\n",
        "    while not done:\n",
        "      action = sample_action(env, 0.0, state, weights[env_state.tobytes()])  # take action epislon greedy\n",
        "      obs, reward, done, trunc, info = env.step(action)\n",
        "      total_reward += reward\n",
        "      state = state_update_func(obs)\n",
        "      image = env.render()\n",
        "    episodic_rewards.append(total_reward)\n",
        "    done = False\n",
        "  episode_rewards_per_configuration.append(episodic_rewards)\n",
        "\n",
        "\n",
        "# Define the column names\n",
        "columns = ['seed_ID', 'ep_reward_pw1', 'ep_reward_pw2', 'ep_reward_pw3', 'ep_reward_pw4', 'ep_reward_pw5']\n",
        "\n",
        "# Create a list of dictionaries to store data\n",
        "data = []\n",
        "\n",
        "# Populate the list with episode IDs and rewards\n",
        "for episode_id in range(1, 101):  # Assuming 100 episodes\n",
        "    row_data = {'seed_ID': episode_id}\n",
        "    for i, rewards in enumerate(episode_rewards_per_configuration):\n",
        "        row_data[columns[i + 1]] = rewards[episode_id - 1]\n",
        "    data.append(row_data)\n",
        "\n",
        "# Create DataFrame from the list of dictionaries\n",
        "df = pd.DataFrame(data)\n",
        "\n",
        "# Define the file name for saving the results\n",
        "csv_file_name = \"submission.csv\"\n",
        "\n",
        "# Save the DataFrame to a CSV file\n",
        "df.to_csv(csv_file_name, index=False)\n",
        "\n",
        "print(\"Results saved successfully to\", csv_file_name)"
      ],
      "metadata": {
        "colab": {
          "base_uri": "https://localhost:8080/"
        },
        "id": "t3LT6ALDpmMP",
        "outputId": "a94b9b5c-ea62-49f7-a1a4-76cf7d24b3ca"
      },
      "execution_count": null,
      "outputs": [
        {
          "output_type": "stream",
          "name": "stdout",
          "text": [
            "Results saved successfully to submission.csv\n"
          ]
        }
      ]
    },
    {
      "cell_type": "code",
      "source": [
        "\n",
        "import pandas as pd\n",
        "\n",
        "# Define the file name for loading the results\n",
        "csv_file_name = \"submission.csv\"\n",
        "\n",
        "# Load the CSV file into a pandas DataFrame\n",
        "df = pd.read_csv(csv_file_name)\n",
        "\n",
        "# Display the DataFrame\n",
        "print(df)\n",
        "print(df.mean())"
      ],
      "metadata": {
        "colab": {
          "base_uri": "https://localhost:8080/"
        },
        "id": "_Y9eQ6pVtgCl",
        "outputId": "93a57926-8abf-4000-f1a1-409348dd14e1"
      },
      "execution_count": null,
      "outputs": [
        {
          "output_type": "stream",
          "name": "stdout",
          "text": [
            "    seed_ID  ep_reward_pw1  ep_reward_pw2  ep_reward_pw3  ep_reward_pw4  \\\n",
            "0         1            -39            -35            -34            -36   \n",
            "1         2            -37            -34            -28            -36   \n",
            "2         3            -41            -35            -28            -38   \n",
            "3         4            -38            -34            -35            -35   \n",
            "4         5            -43            -36            -34            -40   \n",
            "..      ...            ...            ...            ...            ...   \n",
            "95       96            -40            -44            -28            -39   \n",
            "96       97            -38            -34            -42            -47   \n",
            "97       98            -44            -40            -28            -31   \n",
            "98       99            -42            -34            -31            -34   \n",
            "99      100            -38            -32            -28            -33   \n",
            "\n",
            "    ep_reward_pw5  \n",
            "0             -37  \n",
            "1             -39  \n",
            "2             -38  \n",
            "3             -38  \n",
            "4             -46  \n",
            "..            ...  \n",
            "95            -38  \n",
            "96            -41  \n",
            "97            -34  \n",
            "98            -38  \n",
            "99            -39  \n",
            "\n",
            "[100 rows x 6 columns]\n",
            "seed_ID          50.50\n",
            "ep_reward_pw1   -40.67\n",
            "ep_reward_pw2   -35.72\n",
            "ep_reward_pw3   -31.96\n",
            "ep_reward_pw4   -35.93\n",
            "ep_reward_pw5   -41.05\n",
            "dtype: float64\n"
          ]
        }
      ]
    },
    {
      "cell_type": "code",
      "source": [
        "df.loc[:, 'ep_reward_pw1':].values.mean()"
      ],
      "metadata": {
        "colab": {
          "base_uri": "https://localhost:8080/"
        },
        "id": "6KpFFF5wvDqQ",
        "outputId": "746a0151-95db-4aef-988e-d4f4e3e4d2e7"
      },
      "execution_count": null,
      "outputs": [
        {
          "output_type": "execute_result",
          "data": {
            "text/plain": [
              "-37.066"
            ]
          },
          "metadata": {},
          "execution_count": 56
        }
      ]
    },
    {
      "cell_type": "code",
      "execution_count": null,
      "metadata": {
        "id": "KxzPBPvxaJVI"
      },
      "outputs": [],
      "source": [
        "### VISUALIZE ENVIRONMENTS: GENERATE VIDEOS ###\n",
        "\n",
        "for indx, env in enumerate(env_list):\n",
        "  frames=[]\n",
        "  done = False\n",
        "  env_state = create_env_state(env.get_wrapper_attr(\"puddle_top_left\"), env.get_wrapper_attr(\"puddle_top_left\"))\n",
        "  for _ in range(10):\n",
        "    obs,_ = env.reset()\n",
        "    state = state_update_func(obs)\n",
        "    while not done:\n",
        "      action = sample_action(env, 0.0, state, weights[env_state.tobytes()])  # take action epislon greedy\n",
        "      obs, reward, done, trunc, info = env.step(action)\n",
        "      state = state_update_func(obs)\n",
        "      image = env.render()\n",
        "      frames.append(image)\n",
        "    done = False\n",
        "\n",
        "  visualize(frames, f\"config-{indx}.mp4\")\n"
      ]
    }
  ],
  "metadata": {
    "colab": {
      "provenance": [],
      "include_colab_link": true
    },
    "kernelspec": {
      "display_name": "Python 3",
      "name": "python3"
    },
    "language_info": {
      "name": "python"
    }
  },
  "nbformat": 4,
  "nbformat_minor": 0
}